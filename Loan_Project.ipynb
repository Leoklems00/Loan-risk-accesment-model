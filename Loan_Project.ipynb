{
 "cells": [
  {
   "cell_type": "code",
   "execution_count": 1,
   "id": "66d4520a",
   "metadata": {},
   "outputs": [],
   "source": [
    "import numpy as np\n",
    "import matplotlib.pyplot as plt\n",
    "import pandas as pd\n",
    "import seaborn as sns\n",
    "from sklearn.model_selection import train_test_split, cross_val_score, GridSearchCV\n",
    "from sklearn.neighbors import KNeighborsClassifier\n",
    "from sklearn.ensemble import RandomForestClassifier, BaggingClassifier, GradientBoostingClassifier,  VotingClassifier \n",
    "from sklearn.tree import DecisionTreeClassifier\n",
    "from sklearn.metrics import classification_report, confusion_matrix\n",
    "from sklearn.metrics import accuracy_score, precision_score, recall_score, f1_score\n",
    "import warnings"
   ]
  },
  {
   "cell_type": "code",
   "execution_count": 2,
   "id": "f091d64c",
   "metadata": {},
   "outputs": [],
   "source": [
    "warnings.filterwarnings(\"ignore\", category=DeprecationWarning)"
   ]
  },
  {
   "cell_type": "markdown",
   "id": "9549e36f",
   "metadata": {},
   "source": [
    "## LOAD AND EXPLOR DATASET\n",
    "Project is aimed at correctly classifying those that will recieve loan and **NOT** pay back, that is those with **Risk_Flag = 0**"
   ]
  },
  {
   "cell_type": "code",
   "execution_count": 3,
   "id": "58088033",
   "metadata": {},
   "outputs": [
    {
     "data": {
      "text/html": [
       "<div>\n",
       "<style scoped>\n",
       "    .dataframe tbody tr th:only-of-type {\n",
       "        vertical-align: middle;\n",
       "    }\n",
       "\n",
       "    .dataframe tbody tr th {\n",
       "        vertical-align: top;\n",
       "    }\n",
       "\n",
       "    .dataframe thead th {\n",
       "        text-align: right;\n",
       "    }\n",
       "</style>\n",
       "<table border=\"1\" class=\"dataframe\">\n",
       "  <thead>\n",
       "    <tr style=\"text-align: right;\">\n",
       "      <th></th>\n",
       "      <th>Id</th>\n",
       "      <th>Income</th>\n",
       "      <th>Age</th>\n",
       "      <th>Experience</th>\n",
       "      <th>Married/Single</th>\n",
       "      <th>House_Ownership</th>\n",
       "      <th>Car_Ownership</th>\n",
       "      <th>CURRENT_JOB_YRS</th>\n",
       "      <th>CURRENT_HOUSE_YRS</th>\n",
       "      <th>Risk_Flag</th>\n",
       "    </tr>\n",
       "  </thead>\n",
       "  <tbody>\n",
       "    <tr>\n",
       "      <th>0</th>\n",
       "      <td>1</td>\n",
       "      <td>1303834</td>\n",
       "      <td>23</td>\n",
       "      <td>3</td>\n",
       "      <td>single</td>\n",
       "      <td>rented</td>\n",
       "      <td>no</td>\n",
       "      <td>3</td>\n",
       "      <td>13</td>\n",
       "      <td>0</td>\n",
       "    </tr>\n",
       "    <tr>\n",
       "      <th>1</th>\n",
       "      <td>2</td>\n",
       "      <td>7574516</td>\n",
       "      <td>40</td>\n",
       "      <td>10</td>\n",
       "      <td>single</td>\n",
       "      <td>rented</td>\n",
       "      <td>no</td>\n",
       "      <td>9</td>\n",
       "      <td>13</td>\n",
       "      <td>0</td>\n",
       "    </tr>\n",
       "    <tr>\n",
       "      <th>2</th>\n",
       "      <td>3</td>\n",
       "      <td>3991815</td>\n",
       "      <td>66</td>\n",
       "      <td>4</td>\n",
       "      <td>married</td>\n",
       "      <td>rented</td>\n",
       "      <td>no</td>\n",
       "      <td>4</td>\n",
       "      <td>10</td>\n",
       "      <td>0</td>\n",
       "    </tr>\n",
       "    <tr>\n",
       "      <th>3</th>\n",
       "      <td>4</td>\n",
       "      <td>6256451</td>\n",
       "      <td>41</td>\n",
       "      <td>2</td>\n",
       "      <td>single</td>\n",
       "      <td>rented</td>\n",
       "      <td>yes</td>\n",
       "      <td>2</td>\n",
       "      <td>12</td>\n",
       "      <td>1</td>\n",
       "    </tr>\n",
       "    <tr>\n",
       "      <th>4</th>\n",
       "      <td>5</td>\n",
       "      <td>5768871</td>\n",
       "      <td>47</td>\n",
       "      <td>11</td>\n",
       "      <td>single</td>\n",
       "      <td>rented</td>\n",
       "      <td>no</td>\n",
       "      <td>3</td>\n",
       "      <td>14</td>\n",
       "      <td>1</td>\n",
       "    </tr>\n",
       "    <tr>\n",
       "      <th>...</th>\n",
       "      <td>...</td>\n",
       "      <td>...</td>\n",
       "      <td>...</td>\n",
       "      <td>...</td>\n",
       "      <td>...</td>\n",
       "      <td>...</td>\n",
       "      <td>...</td>\n",
       "      <td>...</td>\n",
       "      <td>...</td>\n",
       "      <td>...</td>\n",
       "    </tr>\n",
       "    <tr>\n",
       "      <th>251995</th>\n",
       "      <td>251996</td>\n",
       "      <td>8154883</td>\n",
       "      <td>43</td>\n",
       "      <td>13</td>\n",
       "      <td>single</td>\n",
       "      <td>rented</td>\n",
       "      <td>no</td>\n",
       "      <td>6</td>\n",
       "      <td>11</td>\n",
       "      <td>0</td>\n",
       "    </tr>\n",
       "    <tr>\n",
       "      <th>251996</th>\n",
       "      <td>251997</td>\n",
       "      <td>2843572</td>\n",
       "      <td>26</td>\n",
       "      <td>10</td>\n",
       "      <td>single</td>\n",
       "      <td>rented</td>\n",
       "      <td>no</td>\n",
       "      <td>6</td>\n",
       "      <td>11</td>\n",
       "      <td>0</td>\n",
       "    </tr>\n",
       "    <tr>\n",
       "      <th>251997</th>\n",
       "      <td>251998</td>\n",
       "      <td>4522448</td>\n",
       "      <td>46</td>\n",
       "      <td>7</td>\n",
       "      <td>single</td>\n",
       "      <td>rented</td>\n",
       "      <td>no</td>\n",
       "      <td>7</td>\n",
       "      <td>12</td>\n",
       "      <td>0</td>\n",
       "    </tr>\n",
       "    <tr>\n",
       "      <th>251998</th>\n",
       "      <td>251999</td>\n",
       "      <td>6507128</td>\n",
       "      <td>45</td>\n",
       "      <td>0</td>\n",
       "      <td>single</td>\n",
       "      <td>rented</td>\n",
       "      <td>no</td>\n",
       "      <td>0</td>\n",
       "      <td>10</td>\n",
       "      <td>0</td>\n",
       "    </tr>\n",
       "    <tr>\n",
       "      <th>251999</th>\n",
       "      <td>252000</td>\n",
       "      <td>9070230</td>\n",
       "      <td>70</td>\n",
       "      <td>17</td>\n",
       "      <td>single</td>\n",
       "      <td>rented</td>\n",
       "      <td>no</td>\n",
       "      <td>7</td>\n",
       "      <td>11</td>\n",
       "      <td>0</td>\n",
       "    </tr>\n",
       "  </tbody>\n",
       "</table>\n",
       "<p>252000 rows × 10 columns</p>\n",
       "</div>"
      ],
      "text/plain": [
       "            Id   Income  Age  Experience Married/Single House_Ownership  \\\n",
       "0            1  1303834   23           3         single          rented   \n",
       "1            2  7574516   40          10         single          rented   \n",
       "2            3  3991815   66           4        married          rented   \n",
       "3            4  6256451   41           2         single          rented   \n",
       "4            5  5768871   47          11         single          rented   \n",
       "...        ...      ...  ...         ...            ...             ...   \n",
       "251995  251996  8154883   43          13         single          rented   \n",
       "251996  251997  2843572   26          10         single          rented   \n",
       "251997  251998  4522448   46           7         single          rented   \n",
       "251998  251999  6507128   45           0         single          rented   \n",
       "251999  252000  9070230   70          17         single          rented   \n",
       "\n",
       "       Car_Ownership  CURRENT_JOB_YRS  CURRENT_HOUSE_YRS  Risk_Flag  \n",
       "0                 no                3                 13          0  \n",
       "1                 no                9                 13          0  \n",
       "2                 no                4                 10          0  \n",
       "3                yes                2                 12          1  \n",
       "4                 no                3                 14          1  \n",
       "...              ...              ...                ...        ...  \n",
       "251995            no                6                 11          0  \n",
       "251996            no                6                 11          0  \n",
       "251997            no                7                 12          0  \n",
       "251998            no                0                 10          0  \n",
       "251999            no                7                 11          0  \n",
       "\n",
       "[252000 rows x 10 columns]"
      ]
     },
     "execution_count": 3,
     "metadata": {},
     "output_type": "execute_result"
    }
   ],
   "source": [
    "loan = pd.read_csv('loan.csv')\n",
    "loan"
   ]
  },
  {
   "cell_type": "code",
   "execution_count": 4,
   "id": "be595175",
   "metadata": {},
   "outputs": [
    {
     "data": {
      "text/html": [
       "<div>\n",
       "<style scoped>\n",
       "    .dataframe tbody tr th:only-of-type {\n",
       "        vertical-align: middle;\n",
       "    }\n",
       "\n",
       "    .dataframe tbody tr th {\n",
       "        vertical-align: top;\n",
       "    }\n",
       "\n",
       "    .dataframe thead th {\n",
       "        text-align: right;\n",
       "    }\n",
       "</style>\n",
       "<table border=\"1\" class=\"dataframe\">\n",
       "  <thead>\n",
       "    <tr style=\"text-align: right;\">\n",
       "      <th></th>\n",
       "      <th>Id</th>\n",
       "      <th>Income</th>\n",
       "      <th>Age</th>\n",
       "      <th>Experience</th>\n",
       "      <th>CURRENT_JOB_YRS</th>\n",
       "      <th>CURRENT_HOUSE_YRS</th>\n",
       "      <th>Risk_Flag</th>\n",
       "    </tr>\n",
       "  </thead>\n",
       "  <tbody>\n",
       "    <tr>\n",
       "      <th>count</th>\n",
       "      <td>252000.000000</td>\n",
       "      <td>2.520000e+05</td>\n",
       "      <td>252000.000000</td>\n",
       "      <td>252000.000000</td>\n",
       "      <td>252000.000000</td>\n",
       "      <td>252000.000000</td>\n",
       "      <td>252000.000000</td>\n",
       "    </tr>\n",
       "    <tr>\n",
       "      <th>mean</th>\n",
       "      <td>126000.500000</td>\n",
       "      <td>4.997117e+06</td>\n",
       "      <td>49.954071</td>\n",
       "      <td>10.084437</td>\n",
       "      <td>6.333877</td>\n",
       "      <td>11.997794</td>\n",
       "      <td>0.123000</td>\n",
       "    </tr>\n",
       "    <tr>\n",
       "      <th>std</th>\n",
       "      <td>72746.278255</td>\n",
       "      <td>2.878311e+06</td>\n",
       "      <td>17.063855</td>\n",
       "      <td>6.002590</td>\n",
       "      <td>3.647053</td>\n",
       "      <td>1.399037</td>\n",
       "      <td>0.328438</td>\n",
       "    </tr>\n",
       "    <tr>\n",
       "      <th>min</th>\n",
       "      <td>1.000000</td>\n",
       "      <td>1.031000e+04</td>\n",
       "      <td>21.000000</td>\n",
       "      <td>0.000000</td>\n",
       "      <td>0.000000</td>\n",
       "      <td>10.000000</td>\n",
       "      <td>0.000000</td>\n",
       "    </tr>\n",
       "    <tr>\n",
       "      <th>25%</th>\n",
       "      <td>63000.750000</td>\n",
       "      <td>2.503015e+06</td>\n",
       "      <td>35.000000</td>\n",
       "      <td>5.000000</td>\n",
       "      <td>3.000000</td>\n",
       "      <td>11.000000</td>\n",
       "      <td>0.000000</td>\n",
       "    </tr>\n",
       "    <tr>\n",
       "      <th>50%</th>\n",
       "      <td>126000.500000</td>\n",
       "      <td>5.000694e+06</td>\n",
       "      <td>50.000000</td>\n",
       "      <td>10.000000</td>\n",
       "      <td>6.000000</td>\n",
       "      <td>12.000000</td>\n",
       "      <td>0.000000</td>\n",
       "    </tr>\n",
       "    <tr>\n",
       "      <th>75%</th>\n",
       "      <td>189000.250000</td>\n",
       "      <td>7.477502e+06</td>\n",
       "      <td>65.000000</td>\n",
       "      <td>15.000000</td>\n",
       "      <td>9.000000</td>\n",
       "      <td>13.000000</td>\n",
       "      <td>0.000000</td>\n",
       "    </tr>\n",
       "    <tr>\n",
       "      <th>max</th>\n",
       "      <td>252000.000000</td>\n",
       "      <td>9.999938e+06</td>\n",
       "      <td>79.000000</td>\n",
       "      <td>20.000000</td>\n",
       "      <td>14.000000</td>\n",
       "      <td>14.000000</td>\n",
       "      <td>1.000000</td>\n",
       "    </tr>\n",
       "  </tbody>\n",
       "</table>\n",
       "</div>"
      ],
      "text/plain": [
       "                  Id        Income            Age     Experience  \\\n",
       "count  252000.000000  2.520000e+05  252000.000000  252000.000000   \n",
       "mean   126000.500000  4.997117e+06      49.954071      10.084437   \n",
       "std     72746.278255  2.878311e+06      17.063855       6.002590   \n",
       "min         1.000000  1.031000e+04      21.000000       0.000000   \n",
       "25%     63000.750000  2.503015e+06      35.000000       5.000000   \n",
       "50%    126000.500000  5.000694e+06      50.000000      10.000000   \n",
       "75%    189000.250000  7.477502e+06      65.000000      15.000000   \n",
       "max    252000.000000  9.999938e+06      79.000000      20.000000   \n",
       "\n",
       "       CURRENT_JOB_YRS  CURRENT_HOUSE_YRS      Risk_Flag  \n",
       "count    252000.000000      252000.000000  252000.000000  \n",
       "mean          6.333877          11.997794       0.123000  \n",
       "std           3.647053           1.399037       0.328438  \n",
       "min           0.000000          10.000000       0.000000  \n",
       "25%           3.000000          11.000000       0.000000  \n",
       "50%           6.000000          12.000000       0.000000  \n",
       "75%           9.000000          13.000000       0.000000  \n",
       "max          14.000000          14.000000       1.000000  "
      ]
     },
     "execution_count": 4,
     "metadata": {},
     "output_type": "execute_result"
    }
   ],
   "source": [
    "loan.describe()"
   ]
  },
  {
   "cell_type": "code",
   "execution_count": 5,
   "id": "3760c823",
   "metadata": {},
   "outputs": [
    {
     "data": {
      "text/plain": [
       "Text(0.5, 0.98, 'Little Visualization of the dataset')"
      ]
     },
     "execution_count": 5,
     "metadata": {},
     "output_type": "execute_result"
    },
    {
     "data": {
      "image/png": "[encoded data removed]",
      "text/plain": [
       "<Figure size 1500x800 with 6 Axes>"
      ]
     },
     "metadata": {},
     "output_type": "display_data"
    }
   ],
   "source": [
    "sns.set_style('whitegrid')\n",
    "fig, axs = plt.subplots(2,3, figsize = (15,8))\n",
    "sns.boxplot(ax = axs[0,0], x='Age', palette='coolwarm', data=loan)\n",
    "sns.boxplot(ax = axs[0,1], x='Income', palette='coolwarm', data=loan)\n",
    "sns.countplot(ax = axs[0,2], x='House_Ownership', palette='coolwarm', data=loan)\n",
    "sns.countplot(ax = axs[1,0], x='Married/Single', palette='coolwarm', data=loan)\n",
    "sns.countplot(ax = axs[1,1], x='Car_Ownership', palette='coolwarm', data=loan)\n",
    "sns.countplot(ax = axs[1,2], x='Risk_Flag', palette='coolwarm', data=loan)\n",
    "fig.suptitle('Little Visualization of the dataset')"
   ]
  },
  {
   "cell_type": "code",
   "execution_count": 6,
   "id": "7a6d9c55",
   "metadata": {},
   "outputs": [],
   "source": [
    "loan['Married/Single'].replace(['single', 'married'], [0,1], inplace=True)\n",
    "loan['Marital_status'] = loan['Married/Single']\n",
    "loan['House_Ownership'].replace(['norent_noown', 'rented', 'owned'], [0,1,2], inplace=True)\n",
    "loan['Car_Ownership'].replace(['no', 'yes'], [0,1], inplace=True)"
   ]
  },
  {
   "cell_type": "code",
   "execution_count": 7,
   "id": "cc03f682",
   "metadata": {},
   "outputs": [
    {
     "data": {
      "text/plain": [
       "{'norent_noown': 0, 'rented': 1, 'owned': 2}"
      ]
     },
     "execution_count": 7,
     "metadata": {},
     "output_type": "execute_result"
    }
   ],
   "source": [
    "lookup_Marital_status = dict(zip(['single', 'married'], [0,1]))\n",
    "lookup_House_Ownership = dict(zip(['norent_noown', 'rented', 'owned'], [0,1,2]))\n",
    "lookup_Car_Ownership = dict(zip(['norent_noown', 'rented', 'owned'], [0,1,2]))\n",
    "lookup_Car_Ownership"
   ]
  },
  {
   "cell_type": "code",
   "execution_count": 8,
   "id": "1bb9dd13",
   "metadata": {},
   "outputs": [
    {
     "data": {
      "text/html": [
       "<div>\n",
       "<style scoped>\n",
       "    .dataframe tbody tr th:only-of-type {\n",
       "        vertical-align: middle;\n",
       "    }\n",
       "\n",
       "    .dataframe tbody tr th {\n",
       "        vertical-align: top;\n",
       "    }\n",
       "\n",
       "    .dataframe thead th {\n",
       "        text-align: right;\n",
       "    }\n",
       "</style>\n",
       "<table border=\"1\" class=\"dataframe\">\n",
       "  <thead>\n",
       "    <tr style=\"text-align: right;\">\n",
       "      <th></th>\n",
       "      <th>Income</th>\n",
       "      <th>Age</th>\n",
       "      <th>Experience</th>\n",
       "      <th>House_Ownership</th>\n",
       "      <th>Car_Ownership</th>\n",
       "      <th>CURRENT_JOB_YRS</th>\n",
       "      <th>Risk_Flag</th>\n",
       "      <th>Marital_status</th>\n",
       "    </tr>\n",
       "  </thead>\n",
       "  <tbody>\n",
       "    <tr>\n",
       "      <th>0</th>\n",
       "      <td>1303834</td>\n",
       "      <td>23</td>\n",
       "      <td>3</td>\n",
       "      <td>1</td>\n",
       "      <td>0</td>\n",
       "      <td>3</td>\n",
       "      <td>0</td>\n",
       "      <td>0</td>\n",
       "    </tr>\n",
       "    <tr>\n",
       "      <th>1</th>\n",
       "      <td>7574516</td>\n",
       "      <td>40</td>\n",
       "      <td>10</td>\n",
       "      <td>1</td>\n",
       "      <td>0</td>\n",
       "      <td>9</td>\n",
       "      <td>0</td>\n",
       "      <td>0</td>\n",
       "    </tr>\n",
       "    <tr>\n",
       "      <th>2</th>\n",
       "      <td>3991815</td>\n",
       "      <td>66</td>\n",
       "      <td>4</td>\n",
       "      <td>1</td>\n",
       "      <td>0</td>\n",
       "      <td>4</td>\n",
       "      <td>0</td>\n",
       "      <td>1</td>\n",
       "    </tr>\n",
       "    <tr>\n",
       "      <th>3</th>\n",
       "      <td>6256451</td>\n",
       "      <td>41</td>\n",
       "      <td>2</td>\n",
       "      <td>1</td>\n",
       "      <td>1</td>\n",
       "      <td>2</td>\n",
       "      <td>1</td>\n",
       "      <td>0</td>\n",
       "    </tr>\n",
       "    <tr>\n",
       "      <th>4</th>\n",
       "      <td>5768871</td>\n",
       "      <td>47</td>\n",
       "      <td>11</td>\n",
       "      <td>1</td>\n",
       "      <td>0</td>\n",
       "      <td>3</td>\n",
       "      <td>1</td>\n",
       "      <td>0</td>\n",
       "    </tr>\n",
       "    <tr>\n",
       "      <th>...</th>\n",
       "      <td>...</td>\n",
       "      <td>...</td>\n",
       "      <td>...</td>\n",
       "      <td>...</td>\n",
       "      <td>...</td>\n",
       "      <td>...</td>\n",
       "      <td>...</td>\n",
       "      <td>...</td>\n",
       "    </tr>\n",
       "    <tr>\n",
       "      <th>251995</th>\n",
       "      <td>8154883</td>\n",
       "      <td>43</td>\n",
       "      <td>13</td>\n",
       "      <td>1</td>\n",
       "      <td>0</td>\n",
       "      <td>6</td>\n",
       "      <td>0</td>\n",
       "      <td>0</td>\n",
       "    </tr>\n",
       "    <tr>\n",
       "      <th>251996</th>\n",
       "      <td>2843572</td>\n",
       "      <td>26</td>\n",
       "      <td>10</td>\n",
       "      <td>1</td>\n",
       "      <td>0</td>\n",
       "      <td>6</td>\n",
       "      <td>0</td>\n",
       "      <td>0</td>\n",
       "    </tr>\n",
       "    <tr>\n",
       "      <th>251997</th>\n",
       "      <td>4522448</td>\n",
       "      <td>46</td>\n",
       "      <td>7</td>\n",
       "      <td>1</td>\n",
       "      <td>0</td>\n",
       "      <td>7</td>\n",
       "      <td>0</td>\n",
       "      <td>0</td>\n",
       "    </tr>\n",
       "    <tr>\n",
       "      <th>251998</th>\n",
       "      <td>6507128</td>\n",
       "      <td>45</td>\n",
       "      <td>0</td>\n",
       "      <td>1</td>\n",
       "      <td>0</td>\n",
       "      <td>0</td>\n",
       "      <td>0</td>\n",
       "      <td>0</td>\n",
       "    </tr>\n",
       "    <tr>\n",
       "      <th>251999</th>\n",
       "      <td>9070230</td>\n",
       "      <td>70</td>\n",
       "      <td>17</td>\n",
       "      <td>1</td>\n",
       "      <td>0</td>\n",
       "      <td>7</td>\n",
       "      <td>0</td>\n",
       "      <td>0</td>\n",
       "    </tr>\n",
       "  </tbody>\n",
       "</table>\n",
       "<p>252000 rows × 8 columns</p>\n",
       "</div>"
      ],
      "text/plain": [
       "         Income  Age  Experience  House_Ownership  Car_Ownership  \\\n",
       "0       1303834   23           3                1              0   \n",
       "1       7574516   40          10                1              0   \n",
       "2       3991815   66           4                1              0   \n",
       "3       6256451   41           2                1              1   \n",
       "4       5768871   47          11                1              0   \n",
       "...         ...  ...         ...              ...            ...   \n",
       "251995  8154883   43          13                1              0   \n",
       "251996  2843572   26          10                1              0   \n",
       "251997  4522448   46           7                1              0   \n",
       "251998  6507128   45           0                1              0   \n",
       "251999  9070230   70          17                1              0   \n",
       "\n",
       "        CURRENT_JOB_YRS  Risk_Flag  Marital_status  \n",
       "0                     3          0               0  \n",
       "1                     9          0               0  \n",
       "2                     4          0               1  \n",
       "3                     2          1               0  \n",
       "4                     3          1               0  \n",
       "...                 ...        ...             ...  \n",
       "251995                6          0               0  \n",
       "251996                6          0               0  \n",
       "251997                7          0               0  \n",
       "251998                0          0               0  \n",
       "251999                7          0               0  \n",
       "\n",
       "[252000 rows x 8 columns]"
      ]
     },
     "execution_count": 8,
     "metadata": {},
     "output_type": "execute_result"
    }
   ],
   "source": [
    "loan = loan.drop(columns=['Id', 'CURRENT_HOUSE_YRS','Married/Single'])\n",
    "loan"
   ]
  },
  {
   "cell_type": "code",
   "execution_count": 9,
   "id": "a13a2b2f",
   "metadata": {},
   "outputs": [
    {
     "data": {
      "text/plain": [
       "array([[1303834,      23,       3, ...,       0,       3,       0],\n",
       "       [7574516,      40,      10, ...,       0,       9,       0],\n",
       "       [3991815,      66,       4, ...,       0,       4,       1],\n",
       "       ...,\n",
       "       [4522448,      46,       7, ...,       0,       7,       0],\n",
       "       [6507128,      45,       0, ...,       0,       0,       0],\n",
       "       [9070230,      70,      17, ...,       0,       7,       0]],\n",
       "      dtype=int64)"
      ]
     },
     "execution_count": 9,
     "metadata": {},
     "output_type": "execute_result"
    }
   ],
   "source": [
    "X = loan.drop(columns=['Risk_Flag'], axis=1).values\n",
    "X"
   ]
  },
  {
   "cell_type": "code",
   "execution_count": 10,
   "id": "34e0591f",
   "metadata": {},
   "outputs": [
    {
     "data": {
      "text/plain": [
       "array([[0],\n",
       "       [0],\n",
       "       [0],\n",
       "       ...,\n",
       "       [0],\n",
       "       [0],\n",
       "       [0]], dtype=int64)"
      ]
     },
     "execution_count": 10,
     "metadata": {},
     "output_type": "execute_result"
    }
   ],
   "source": [
    "y = loan[['Risk_Flag']].values\n",
    "y"
   ]
  },
  {
   "cell_type": "markdown",
   "id": "26e29c43",
   "metadata": {},
   "source": [
    "## SPLIT DATASET FOR TRAINING AND TESTING"
   ]
  },
  {
   "cell_type": "code",
   "execution_count": 11,
   "id": "f29e1fc6",
   "metadata": {},
   "outputs": [],
   "source": [
    "X_train, X_test, y_train, y_test = train_test_split(X,y, test_size=0.25, random_state=45)"
   ]
  },
  {
   "cell_type": "markdown",
   "id": "2f67d1a9",
   "metadata": {},
   "source": [
    "## Design Goal\n",
    "Model that predicts all risky loans that is when risk_flag = 1"
   ]
  },
  {
   "cell_type": "markdown",
   "id": "d884ae51",
   "metadata": {},
   "source": [
    "### Selecting the optimal hyperparameters for best perfomance of selected models"
   ]
  },
  {
   "cell_type": "code",
   "execution_count": 12,
   "id": "af88db34",
   "metadata": {},
   "outputs": [],
   "source": [
    "models_list = [KNeighborsClassifier(), DecisionTreeClassifier(random_state=45), RandomForestClassifier(max_features = 3, random_state=45)]"
   ]
  },
  {
   "cell_type": "code",
   "execution_count": 13,
   "id": "70bdfd25",
   "metadata": {},
   "outputs": [],
   "source": [
    "model_hyperparameters = {\n",
    "    \n",
    "    'KNN_hyp' : {\n",
    "        'n_neighbors' : [12,15]\n",
    "    },\n",
    "    'dec_tree_hyp' : {\n",
    "        'max_depth' : [50,60],\n",
    "    },\n",
    "    'random_forest_hyp' : {\n",
    "        'n_estimators' : [5,10,20],\n",
    "    }\n",
    "}"
   ]
  },
  {
   "cell_type": "code",
   "execution_count": 14,
   "id": "4b951653",
   "metadata": {},
   "outputs": [
    {
     "name": "stdout",
     "output_type": "stream",
     "text": [
      "['KNN_hyp', 'dec_tree_hyp', 'random_forest_hyp']\n"
     ]
    }
   ],
   "source": [
    "model_keys= list(model_hyperparameters.keys())\n",
    "print(model_keys)"
   ]
  },
  {
   "cell_type": "code",
   "execution_count": 15,
   "id": "a1d25e8a",
   "metadata": {},
   "outputs": [],
   "source": [
    "def model_selection(list_of_models,hyperparametrs_dictionary):\n",
    "    \n",
    "    result = []\n",
    "    i = 0\n",
    "    \n",
    "    for model in list_of_models:\n",
    "        key = model_keys[i]\n",
    "        params = hyperparametrs_dictionary[key]\n",
    "        i+=1\n",
    "        \n",
    "        print(model)\n",
    "        print(params)\n",
    "        print('---------------------------------------------')\n",
    "        \n",
    "        classifier = GridSearchCV(model, params, cv=5, scoring='recall')\n",
    "        \n",
    "        # fitting the data to classifier\n",
    "        \n",
    "        classifier.fit(X,y.ravel())\n",
    "        result.append({\n",
    "            'model used': model,\n",
    "            'highest score' : classifier.best_score_,\n",
    "            'best hyperparameters': classifier.best_params_\n",
    "        })\n",
    "        \n",
    "    result_dataframe = pd.DataFrame(result, columns=['model used', 'highest score', 'best hyperparameters'])\n",
    "\n",
    "    return result_dataframe"
   ]
  },
  {
   "cell_type": "code",
   "execution_count": 16,
   "id": "9c8e8f68",
   "metadata": {},
   "outputs": [
    {
     "name": "stdout",
     "output_type": "stream",
     "text": [
      "KNeighborsClassifier()\n",
      "{'n_neighbors': [12, 15]}\n",
      "---------------------------------------------\n",
      "DecisionTreeClassifier(random_state=45)\n",
      "{'max_depth': [50, 60]}\n",
      "---------------------------------------------\n",
      "RandomForestClassifier(max_features=3, random_state=45)\n",
      "{'n_estimators': [5, 10, 20]}\n",
      "---------------------------------------------\n"
     ]
    },
    {
     "data": {
      "text/html": [
       "<div>\n",
       "<style scoped>\n",
       "    .dataframe tbody tr th:only-of-type {\n",
       "        vertical-align: middle;\n",
       "    }\n",
       "\n",
       "    .dataframe tbody tr th {\n",
       "        vertical-align: top;\n",
       "    }\n",
       "\n",
       "    .dataframe thead th {\n",
       "        text-align: right;\n",
       "    }\n",
       "</style>\n",
       "<table border=\"1\" class=\"dataframe\">\n",
       "  <thead>\n",
       "    <tr style=\"text-align: right;\">\n",
       "      <th></th>\n",
       "      <th>model used</th>\n",
       "      <th>highest score</th>\n",
       "      <th>best hyperparameters</th>\n",
       "    </tr>\n",
       "  </thead>\n",
       "  <tbody>\n",
       "    <tr>\n",
       "      <th>0</th>\n",
       "      <td>KNeighborsClassifier()</td>\n",
       "      <td>0.602738</td>\n",
       "      <td>{'n_neighbors': 15}</td>\n",
       "    </tr>\n",
       "    <tr>\n",
       "      <th>1</th>\n",
       "      <td>DecisionTreeClassifier(random_state=45)</td>\n",
       "      <td>0.583311</td>\n",
       "      <td>{'max_depth': 50}</td>\n",
       "    </tr>\n",
       "    <tr>\n",
       "      <th>2</th>\n",
       "      <td>RandomForestClassifier(max_features=3, random_...</td>\n",
       "      <td>0.556667</td>\n",
       "      <td>{'n_estimators': 5}</td>\n",
       "    </tr>\n",
       "  </tbody>\n",
       "</table>\n",
       "</div>"
      ],
      "text/plain": [
       "                                          model used  highest score  \\\n",
       "0                             KNeighborsClassifier()       0.602738   \n",
       "1            DecisionTreeClassifier(random_state=45)       0.583311   \n",
       "2  RandomForestClassifier(max_features=3, random_...       0.556667   \n",
       "\n",
       "  best hyperparameters  \n",
       "0  {'n_neighbors': 15}  \n",
       "1    {'max_depth': 50}  \n",
       "2  {'n_estimators': 5}  "
      ]
     },
     "execution_count": 16,
     "metadata": {},
     "output_type": "execute_result"
    }
   ],
   "source": [
    "model_selection(models_list, model_hyperparameters)"
   ]
  },
  {
   "cell_type": "markdown",
   "id": "1a88234d",
   "metadata": {},
   "source": [
    "## USING DECISION TREE CLASSIFIER ALGORITHM"
   ]
  },
  {
   "cell_type": "code",
   "execution_count": 17,
   "id": "da735429",
   "metadata": {},
   "outputs": [],
   "source": [
    "dtc = DecisionTreeClassifier(max_depth = 50, random_state=45).fit(X_train, y_train)"
   ]
  },
  {
   "cell_type": "code",
   "execution_count": 18,
   "id": "d9095e9a",
   "metadata": {},
   "outputs": [],
   "source": [
    "dtc_pred = dtc.predict(X_test)"
   ]
  },
  {
   "cell_type": "code",
   "execution_count": 19,
   "id": "0720225f",
   "metadata": {},
   "outputs": [
    {
     "data": {
      "text/plain": [
       "array([0, 0, 0, ..., 0, 0, 0], dtype=int64)"
      ]
     },
     "execution_count": 19,
     "metadata": {},
     "output_type": "execute_result"
    }
   ],
   "source": [
    "dtc_pred"
   ]
  },
  {
   "cell_type": "markdown",
   "id": "561cf799",
   "metadata": {},
   "source": [
    "### TESTING THE ACCURACY OF THE DTC MODEL"
   ]
  },
  {
   "cell_type": "code",
   "execution_count": 20,
   "id": "332e9b38",
   "metadata": {},
   "outputs": [
    {
     "name": "stdout",
     "output_type": "stream",
     "text": [
      "[[51267  3959]\n",
      " [ 3394  4380]]\n"
     ]
    }
   ],
   "source": [
    "# USING CONFUSION MATRIX\n",
    "print(confusion_matrix(y_test,dtc_pred))"
   ]
  },
  {
   "cell_type": "code",
   "execution_count": 21,
   "id": "13aa36d0",
   "metadata": {},
   "outputs": [
    {
     "name": "stdout",
     "output_type": "stream",
     "text": [
      "              precision    recall  f1-score   support\n",
      "\n",
      "           0       0.94      0.93      0.93     55226\n",
      "           1       0.53      0.56      0.54      7774\n",
      "\n",
      "    accuracy                           0.88     63000\n",
      "   macro avg       0.73      0.75      0.74     63000\n",
      "weighted avg       0.89      0.88      0.89     63000\n",
      "\n"
     ]
    }
   ],
   "source": [
    "# USING CLASSIFICATION REPORT\n",
    "print(classification_report(y_test,dtc_pred))"
   ]
  },
  {
   "cell_type": "markdown",
   "id": "64f3e795",
   "metadata": {},
   "source": [
    "## USING KNEAREST NEIGHBOR ALGORITHM"
   ]
  },
  {
   "cell_type": "code",
   "execution_count": 22,
   "id": "c52b1a18",
   "metadata": {},
   "outputs": [],
   "source": [
    "knn = KNeighborsClassifier(n_neighbors=15).fit(X_train, y_train.ravel())"
   ]
  },
  {
   "cell_type": "code",
   "execution_count": 23,
   "id": "bd53fdee",
   "metadata": {},
   "outputs": [
    {
     "data": {
      "text/plain": [
       "array([0, 1, 0, ..., 0, 0, 0], dtype=int64)"
      ]
     },
     "execution_count": 23,
     "metadata": {},
     "output_type": "execute_result"
    }
   ],
   "source": [
    "knn_pred = knn.predict(X_test)\n",
    "knn_pred"
   ]
  },
  {
   "cell_type": "markdown",
   "id": "b84eb1a7",
   "metadata": {},
   "source": [
    "### TESTING THE ACCURACY OF KNN MODEL"
   ]
  },
  {
   "cell_type": "code",
   "execution_count": 24,
   "id": "b0c5104a",
   "metadata": {},
   "outputs": [
    {
     "name": "stdout",
     "output_type": "stream",
     "text": [
      "[[52028  3198]\n",
      " [ 3542  4232]]\n"
     ]
    }
   ],
   "source": [
    "# USING CONFUSION MATRIX\n",
    "print(confusion_matrix(y_test,knn_pred))"
   ]
  },
  {
   "cell_type": "code",
   "execution_count": 25,
   "id": "be74dc5e",
   "metadata": {},
   "outputs": [
    {
     "name": "stdout",
     "output_type": "stream",
     "text": [
      "              precision    recall  f1-score   support\n",
      "\n",
      "           0       0.94      0.94      0.94     55226\n",
      "           1       0.57      0.54      0.56      7774\n",
      "\n",
      "    accuracy                           0.89     63000\n",
      "   macro avg       0.75      0.74      0.75     63000\n",
      "weighted avg       0.89      0.89      0.89     63000\n",
      "\n"
     ]
    }
   ],
   "source": [
    "# USING CLASSIFICATION REPORT\n",
    "print(classification_report(y_test,knn_pred))"
   ]
  },
  {
   "cell_type": "markdown",
   "id": "f1558725",
   "metadata": {},
   "source": [
    "## USING RANDOM FORREST CLASSIFIER"
   ]
  },
  {
   "cell_type": "code",
   "execution_count": 26,
   "id": "47b14835",
   "metadata": {},
   "outputs": [],
   "source": [
    "rfc = RandomForestClassifier(max_features=3, n_estimators=5).fit(X_train, y_train.ravel())"
   ]
  },
  {
   "cell_type": "code",
   "execution_count": 27,
   "id": "4af315fa",
   "metadata": {},
   "outputs": [
    {
     "data": {
      "text/plain": [
       "array([0, 0, 0, ..., 0, 0, 0], dtype=int64)"
      ]
     },
     "execution_count": 27,
     "metadata": {},
     "output_type": "execute_result"
    }
   ],
   "source": [
    "rfc_pred = rfc.predict(X_test)\n",
    "rfc_pred"
   ]
  },
  {
   "cell_type": "markdown",
   "id": "d75c04ed",
   "metadata": {},
   "source": [
    "### TESTING THE ACCURACY OF THE RFC MODEL"
   ]
  },
  {
   "cell_type": "code",
   "execution_count": 28,
   "id": "3d7d7b13",
   "metadata": {},
   "outputs": [
    {
     "name": "stdout",
     "output_type": "stream",
     "text": [
      "[[52042  3184]\n",
      " [ 3508  4266]]\n"
     ]
    }
   ],
   "source": [
    "# USING CONFUSION MATRIX\n",
    "print(confusion_matrix(y_test,rfc_pred))"
   ]
  },
  {
   "cell_type": "code",
   "execution_count": 29,
   "id": "b79d428e",
   "metadata": {},
   "outputs": [
    {
     "name": "stdout",
     "output_type": "stream",
     "text": [
      "              precision    recall  f1-score   support\n",
      "\n",
      "           0       0.94      0.94      0.94     55226\n",
      "           1       0.57      0.55      0.56      7774\n",
      "\n",
      "    accuracy                           0.89     63000\n",
      "   macro avg       0.75      0.75      0.75     63000\n",
      "weighted avg       0.89      0.89      0.89     63000\n",
      "\n"
     ]
    }
   ],
   "source": [
    "# USING CLASSIFICATION REPORT\n",
    "print(classification_report(y_test,rfc_pred))"
   ]
  },
  {
   "cell_type": "markdown",
   "id": "11439edc",
   "metadata": {},
   "source": [
    "## USING VOTING ENSEMBLE TO GET THE BEST MODEL "
   ]
  },
  {
   "cell_type": "code",
   "execution_count": 30,
   "id": "949dc2c8",
   "metadata": {},
   "outputs": [],
   "source": [
    "estimators = [(\"decision\",dtc),(\"KNeighbors\", knn), (\"Random\", rfc)]"
   ]
  },
  {
   "cell_type": "code",
   "execution_count": 31,
   "id": "7ba1c41c",
   "metadata": {},
   "outputs": [],
   "source": [
    "vc = VotingClassifier(estimators=estimators, voting=\"soft\").fit(X_train, y_train.ravel())"
   ]
  },
  {
   "cell_type": "code",
   "execution_count": 32,
   "id": "f0baba5e",
   "metadata": {},
   "outputs": [
    {
     "data": {
      "text/plain": [
       "array([0, 1, 0, ..., 0, 0, 0], dtype=int64)"
      ]
     },
     "execution_count": 32,
     "metadata": {},
     "output_type": "execute_result"
    }
   ],
   "source": [
    "vc_pred = vc.predict(X_test)\n",
    "vc_pred"
   ]
  },
  {
   "cell_type": "code",
   "execution_count": 33,
   "id": "1f90e41f",
   "metadata": {},
   "outputs": [
    {
     "name": "stdout",
     "output_type": "stream",
     "text": [
      "              precision    recall  f1-score   support\n",
      "\n",
      "           0       0.94      0.94      0.94     55226\n",
      "           1       0.58      0.55      0.57      7774\n",
      "\n",
      "    accuracy                           0.89     63000\n",
      "   macro avg       0.76      0.75      0.75     63000\n",
      "weighted avg       0.89      0.89      0.89     63000\n",
      "\n"
     ]
    }
   ],
   "source": [
    "# USING CLASSIFICATION REPORT TO TEST ACCURACY OF VOTING CLASSIFIER\n",
    "print(classification_report(y_test,vc_pred))"
   ]
  },
  {
   "cell_type": "markdown",
   "id": "429bffe7",
   "metadata": {},
   "source": [
    "## USING BAGGING ENSEMBLE"
   ]
  },
  {
   "cell_type": "code",
   "execution_count": 34,
   "id": "6e5a7b85",
   "metadata": {},
   "outputs": [
    {
     "name": "stderr",
     "output_type": "stream",
     "text": [
      "C:\\Users\\user\\anaconda3\\lib\\site-packages\\sklearn\\ensemble\\_base.py:156: FutureWarning: `base_estimator` was renamed to `estimator` in version 1.2 and will be removed in 1.4.\n",
      "  warnings.warn(\n"
     ]
    }
   ],
   "source": [
    "bc = BaggingClassifier(base_estimator = dtc, n_estimators=10).fit(X_train, y_train.ravel())"
   ]
  },
  {
   "cell_type": "code",
   "execution_count": 35,
   "id": "e8420502",
   "metadata": {},
   "outputs": [
    {
     "data": {
      "text/plain": [
       "array([0, 0, 0, ..., 0, 0, 0], dtype=int64)"
      ]
     },
     "execution_count": 35,
     "metadata": {},
     "output_type": "execute_result"
    }
   ],
   "source": [
    "bc_pred = bc.predict(X_test)\n",
    "bc_pred"
   ]
  },
  {
   "cell_type": "code",
   "execution_count": 36,
   "id": "656fdfa8",
   "metadata": {},
   "outputs": [
    {
     "name": "stdout",
     "output_type": "stream",
     "text": [
      "              precision    recall  f1-score   support\n",
      "\n",
      "           0       0.94      0.95      0.94     55226\n",
      "           1       0.58      0.54      0.56      7774\n",
      "\n",
      "    accuracy                           0.90     63000\n",
      "   macro avg       0.76      0.74      0.75     63000\n",
      "weighted avg       0.89      0.90      0.89     63000\n",
      "\n"
     ]
    }
   ],
   "source": [
    "# USING CLASSIFICATION REPORT TO TEST ACCURACY OF BAGGING CLASSIFIER\n",
    "print(classification_report(y_test,bc_pred))"
   ]
  },
  {
   "cell_type": "markdown",
   "id": "b928d15e",
   "metadata": {},
   "source": [
    "## USING STACKING ENSEMBLE"
   ]
  },
  {
   "cell_type": "code",
   "execution_count": 37,
   "id": "25315763",
   "metadata": {},
   "outputs": [],
   "source": [
    "from sklearn.ensemble import StackingClassifier"
   ]
  },
  {
   "cell_type": "code",
   "execution_count": 38,
   "id": "5c9150f2",
   "metadata": {},
   "outputs": [],
   "source": [
    "sc = StackingClassifier(estimators=estimators, final_estimator = dtc).fit(X_train, y_train.ravel())"
   ]
  },
  {
   "cell_type": "code",
   "execution_count": 39,
   "id": "be2b39dc",
   "metadata": {},
   "outputs": [
    {
     "data": {
      "text/plain": [
       "array([0, 0, 0, ..., 0, 0, 0], dtype=int64)"
      ]
     },
     "execution_count": 39,
     "metadata": {},
     "output_type": "execute_result"
    }
   ],
   "source": [
    "sc_pred = sc.predict(X_test)\n",
    "sc_pred"
   ]
  },
  {
   "cell_type": "code",
   "execution_count": 40,
   "id": "44058757",
   "metadata": {},
   "outputs": [
    {
     "name": "stdout",
     "output_type": "stream",
     "text": [
      "              precision    recall  f1-score   support\n",
      "\n",
      "           0       0.92      0.95      0.94     55226\n",
      "           1       0.57      0.44      0.50      7774\n",
      "\n",
      "    accuracy                           0.89     63000\n",
      "   macro avg       0.75      0.70      0.72     63000\n",
      "weighted avg       0.88      0.89      0.88     63000\n",
      "\n"
     ]
    }
   ],
   "source": [
    "# USING CLASSIFICATION REPORT TO TEST ACCURACY OF STACKING CLASSIFIER\n",
    "print(classification_report(y_test,sc_pred))"
   ]
  },
  {
   "cell_type": "markdown",
   "id": "b1237608",
   "metadata": {},
   "source": [
    "## USING GRADIENT BOOSTING CLASSIFIER"
   ]
  },
  {
   "cell_type": "code",
   "execution_count": 41,
   "id": "04959df8",
   "metadata": {},
   "outputs": [],
   "source": [
    "gbc = GradientBoostingClassifier(n_estimators=100).fit(X_train, y_train.ravel())"
   ]
  },
  {
   "cell_type": "code",
   "execution_count": 42,
   "id": "7a7c889e",
   "metadata": {},
   "outputs": [
    {
     "data": {
      "text/plain": [
       "array([0, 0, 0, ..., 0, 0, 0], dtype=int64)"
      ]
     },
     "execution_count": 42,
     "metadata": {},
     "output_type": "execute_result"
    }
   ],
   "source": [
    "gbc_pred = gbc.predict(X_test)\n",
    "gbc_pred"
   ]
  },
  {
   "cell_type": "code",
   "execution_count": 43,
   "id": "6efcc099",
   "metadata": {},
   "outputs": [
    {
     "name": "stdout",
     "output_type": "stream",
     "text": [
      "              precision    recall  f1-score   support\n",
      "\n",
      "           0       0.88      1.00      0.93     55226\n",
      "           1       0.78      0.00      0.00      7774\n",
      "\n",
      "    accuracy                           0.88     63000\n",
      "   macro avg       0.83      0.50      0.47     63000\n",
      "weighted avg       0.86      0.88      0.82     63000\n",
      "\n"
     ]
    }
   ],
   "source": [
    "# USING CLASSIFICATION REPORT TO TEST ACCURACY OF GRADIENT BOOSTING CLASSIFIER\n",
    "print(classification_report(y_test,gbc_pred))"
   ]
  },
  {
   "cell_type": "markdown",
   "id": "e757f37a",
   "metadata": {},
   "source": [
    "## USING VOTING ENSEMBLE TO GET THE BEST MODEL"
   ]
  },
  {
   "cell_type": "code",
   "execution_count": 44,
   "id": "6a4d3853",
   "metadata": {},
   "outputs": [],
   "source": [
    "estimators = [(\"Voting\", vc), (\"Bagging\", bc)]"
   ]
  },
  {
   "cell_type": "code",
   "execution_count": 45,
   "id": "25fbe33c",
   "metadata": {},
   "outputs": [
    {
     "name": "stderr",
     "output_type": "stream",
     "text": [
      "C:\\Users\\user\\anaconda3\\lib\\site-packages\\sklearn\\ensemble\\_base.py:156: FutureWarning: `base_estimator` was renamed to `estimator` in version 1.2 and will be removed in 1.4.\n",
      "  warnings.warn(\n"
     ]
    }
   ],
   "source": [
    "vc = VotingClassifier(estimators=estimators, voting=\"hard\").fit(X_train, y_train.ravel())"
   ]
  },
  {
   "cell_type": "code",
   "execution_count": 46,
   "id": "cdf575d8",
   "metadata": {},
   "outputs": [
    {
     "data": {
      "text/plain": [
       "array([0, 0, 0, ..., 0, 0, 0], dtype=int64)"
      ]
     },
     "execution_count": 46,
     "metadata": {},
     "output_type": "execute_result"
    }
   ],
   "source": [
    "final_pred = vc.predict(X_test)\n",
    "final_pred"
   ]
  },
  {
   "cell_type": "code",
   "execution_count": 47,
   "id": "f03e9ec8",
   "metadata": {},
   "outputs": [
    {
     "name": "stdout",
     "output_type": "stream",
     "text": [
      "              precision    recall  f1-score   support\n",
      "\n",
      "           0       0.93      0.95      0.94     55226\n",
      "           1       0.61      0.50      0.55      7774\n",
      "\n",
      "    accuracy                           0.90     63000\n",
      "   macro avg       0.77      0.73      0.75     63000\n",
      "weighted avg       0.89      0.90      0.89     63000\n",
      "\n"
     ]
    }
   ],
   "source": [
    "# USING CLASSIFICATION REPORT TO TEST ACCURACY OF VOTING CLASSIFIER\n",
    "print(classification_report(y_test,final_pred))"
   ]
  },
  {
   "cell_type": "markdown",
   "id": "0a137d4b",
   "metadata": {},
   "source": [
    "## SAVE TO PICKLE"
   ]
  },
  {
   "cell_type": "code",
   "execution_count": 48,
   "id": "c23f7252",
   "metadata": {},
   "outputs": [],
   "source": [
    "import pickle"
   ]
  },
  {
   "cell_type": "code",
   "execution_count": 49,
   "id": "9da0e726",
   "metadata": {},
   "outputs": [],
   "source": [
    "with open(\"loan.plk\", \"wb\") as f:\n",
    "    pickle.dump(loan, f, protocol = pickle.HIGHEST_PROTOCOL)"
   ]
  },
  {
   "cell_type": "code",
   "execution_count": null,
   "id": "ca588ec1",
   "metadata": {},
   "outputs": [],
   "source": []
  }
 ],
 "metadata": {
  "kernelspec": {
   "display_name": "Python 3 (ipykernel)",
   "language": "python",
   "name": "python3"
  },
  "language_info": {
   "codemirror_mode": {
    "name": "ipython",
    "version": 3
   },
   "file_extension": ".py",
   "mimetype": "text/x-python",
   "name": "python",
   "nbconvert_exporter": "python",
   "pygments_lexer": "ipython3",
   "version": "3.9.12"
  }
 },
 "nbformat": 4,
 "nbformat_minor": 5
}
